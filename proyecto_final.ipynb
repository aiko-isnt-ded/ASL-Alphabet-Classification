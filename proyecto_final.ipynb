{
 "cells": [
  {
   "cell_type": "markdown",
   "metadata": {},
   "source": [
    "___\n",
    "<img style=\"float: right; margin: 15px 15px 15px 15px;\" src=\"https://facts.net/wp-content/uploads/2023/07/ASL-finger-signs--2048x1365.jpg\" width=\"400px\" height=\"180px\" />\n",
    "\n",
    "\n",
    "# <font color= #bbc28d> **PROYECTO FINAL** </font>\n",
    "#### <font color= #2E9AFE> `Clasificación de Imágenes con Redes Neuronales`</font>\n",
    "- <Strong> Diana Valdivia, Samantha Sánchez, Óscar Rocha, Viviana Toledo </Strong>\n",
    "- <Strong> Fecha </Strong>: 18/05/2025\n",
    "\n",
    "\n",
    "\n",
    "___\n",
    "\n",
    "<p style=\"text-align:right;\"> Imagen recuperada de: https://facts.net/wp-content/uploads/2023/07/ASL-finger-signs--2048x1365.jpg</p>"
   ]
  },
  {
   "cell_type": "code",
   "execution_count": null,
   "metadata": {},
   "outputs": [],
   "source": [
    "# Librerías Generales\n",
    "import pandas as pd\n",
    "import numpy as np\n",
    "import os\n",
    "\n",
    "# Gráficas\n",
    "import matplotlib.pyplot as plt\n",
    "import seaborn as sns\n",
    "import plotly.express as px\n",
    "import plotly.graph_objects as go\n",
    "import matplotlib.image as mpimg\n",
    "\n",
    "# Preprocesamiento\n",
    "from sklearn.preprocessing import StandardScaler\n",
    "from sklearn.model_selection import train_test_split\n",
    "from sklearn.pipeline import Pipeline\n",
    "\n",
    "# Modelado - Redes Neuronales\n",
    "import tensorflow as tf\n",
    "import tensorflow_hub as hub\n",
    "\n",
    "# Métricas\n",
    "from sklearn.metrics import accuracy_score, precision_score, recall_score, f1_score, confusion_matrix, ConfusionMatrixDisplay, classification_report"
   ]
  },
  {
   "cell_type": "markdown",
   "metadata": {},
   "source": [
    "# <font color= #bbc28d> **Introducción** </font>"
   ]
  },
  {
   "cell_type": "markdown",
   "metadata": {},
   "source": [
    "La lengua de señas es una herramienta esencial para la comunicación e inclusión de personas sordomudas, pues es el principal medio en el que pueden transmitir sus ideas y **hacerse escuchar** a través del cuerpo. Sin embargo, no todas las personas hablan este idioma y los signos varían según la región, lo que complica el proceso de aprendizaje y comprensión de la lengua de señas. \n",
    "\n",
    "Lo anterior resalta la necesidad de producir herramientas que faciliten la traducción del idioma, que interpreten las señas y permitan **cruzar la brecha lingüística** para no solo fomentar el uso de la lengua de señas, sino también eficientar el proceso de interpretación."
   ]
  },
  {
   "cell_type": "markdown",
   "metadata": {},
   "source": [
    "# <font color= #bbc28d> **Objetivo** </font>"
   ]
  },
  {
   "cell_type": "markdown",
   "metadata": {},
   "source": [
    "- Elaborar una red neuronal capaz de identificar 3 letras del alfabeto de la Lengua de Señas Americana (ASL) a partir de una serie de imágenes, con la intención de traducir las señas y evaluar la posibilidad de escalar el modelo para el idioma en general."
   ]
  },
  {
   "cell_type": "markdown",
   "metadata": {},
   "source": [
    "# <font color= #bbc28d> **Análisis Exploratorio de Datos** </font>"
   ]
  },
  {
   "cell_type": "markdown",
   "metadata": {},
   "source": [
    "Los datos para la elaboración de nuestro modelo fueron obtenidos de Kaggle, en la siguiente liga: https://www.kaggle.com/datasets/grassknoted/asl-alphabet?resource=download. \n",
    "\n",
    "El dataset contiene 3,000 imágenes de 200x200 pixeles por cada letra del alfabeto ASL, así como para _Espacio_, _Borrar_ y _Nada_. Lo anterior resulta en un dataset de 29 clases y 87,000 imágenes, del cual, seleccionaremos tres señas para las letras **D, O y G**, debido a las diferencias marcadas entre las señas para cada una."
   ]
  },
  {
   "cell_type": "markdown",
   "metadata": {},
   "source": [
    "### <font color= #84a7b3> **Subtítulo** </font>"
   ]
  }
 ],
 "metadata": {
  "kernelspec": {
   "display_name": "lab_modelado",
   "language": "python",
   "name": "python3"
  },
  "language_info": {
   "codemirror_mode": {
    "name": "ipython",
    "version": 3
   },
   "file_extension": ".py",
   "mimetype": "text/x-python",
   "name": "python",
   "nbconvert_exporter": "python",
   "pygments_lexer": "ipython3",
   "version": "3.12.4"
  }
 },
 "nbformat": 4,
 "nbformat_minor": 2
}
